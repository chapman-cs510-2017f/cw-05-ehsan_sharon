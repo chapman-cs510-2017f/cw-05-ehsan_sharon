{
 "cells": [
  {
   "cell_type": "code",
   "execution_count": 2,
   "metadata": {
    "collapsed": false
   },
   "outputs": [
   ],
   "source": [
    "from cplane import ListComplexPlane"
   ]
  },
  {
   "cell_type": "markdown",
   "metadata": {
    "collapsed": false
   },
   "source": [
    "Sharon Kim, Eshan Yaghmaei\n",
    "\n",
    "10/3/2017\n",
    "# Classwork 05"
   ]
  },
  {
   "cell_type": "markdown",
   "metadata": {
    "collapsed": false
   },
   "source": [
    "## The Abstract Base Class\n",
    "Although the abstract base class does not do anything by itself, this module is extremely useful in providing the infrastructure for other subclasses. Because a subclass adopts the infrastructure of the abstract base class, the attributes, and modules of the abstract base class are used in the subclass.\n",
    "\n",
    "## The Complex Plane (cplane.py)\n",
    "The cplane was created to generate a 2D grid of numbers (x + y*1j) through defining the attributes given in the abstract base class.  It was also created so that after a grid of numbers are populated, they can be easily transformed through the function f to produce another 2D grid of numbers f(x + y*1j). It also has the functionality to regenerate the original 2D grid of complex numbers and clear all the function transformations that happened to the plane. The last functionality of cplane is that it can reset the parameters for the 2D grid of points and regenerate the grid, reapplying all collected functions to each point."
   ]
  },
  {
   "cell_type": "markdown",
   "metadata": {
    "collapsed": false
   },
   "source": [
    "## Demonstration"
   ]
  },
  {
   "cell_type": "markdown",
   "metadata": {
    "collapsed": false
   },
   "source": [
    "#### Create a 2D grid containing complex numbers having the form (x+y*1j)"
   ]
  },
  {
   "cell_type": "code",
   "execution_count": 20,
   "metadata": {
    "collapsed": false
   },
   "outputs": [
    {
     "name": "stdout",
     "output_type": "stream",
     "text": [
      "[[(-1-1j), -1j, (1-1j)], [(-1+0j), 0j, (1+0j)], [(-1+1j), 1j, (1+1j)]]\n"
     ]
    }
   ],
   "source": [
    "lcp = ListComplexPlane(-1, 1, 3, -1, 1, 3)\n",
    "print(lcp.plane)"
   ]
  },
  {
   "cell_type": "markdown",
   "metadata": {
    "collapsed": false
   },
   "source": [
    "#### Use apply to apply a transformation onto a complex plane by the function f"
   ]
  },
  {
   "cell_type": "code",
   "execution_count": 21,
   "metadata": {
    "collapsed": false
   },
   "outputs": [
    {
     "name": "stdout",
     "output_type": "stream",
     "text": [
      "[[(-2-2j), -2j, (2-2j)], [(-2+0j), 0j, (2+0j)], [(-2+2j), 2j, (2+2j)]]\n"
     ]
    }
   ],
   "source": [
    "def f(p):\n",
    "        return p*2\n",
    "    \n",
    "lcp.apply(f)\n",
    "print(lcp.plane)"
   ]
  },
  {
   "cell_type": "markdown",
   "metadata": {
    "collapsed": false
   },
   "source": [
    "#### Use refresh to regenerate the complex plane and clear all functions that transform the plane"
   ]
  },
  {
   "cell_type": "code",
   "execution_count": 22,
   "metadata": {
    "collapsed": false
   },
   "outputs": [
    {
     "name": "stdout",
     "output_type": "stream",
     "text": [
      "[[(-1-1j), -1j, (1-1j)], [(-1+0j), 0j, (1+0j)], [(-1+1j), 1j, (1+1j)]]\n"
     ]
    }
   ],
   "source": [
    "lcp.refresh()\n",
    "print(lcp.plane)"
   ]
  },
  {
   "cell_type": "markdown",
   "metadata": {
    "collapsed": false
   },
   "source": [
    "#### Use zoom to regenerate the plane with new ranges then apply all transformations in fs."
   ]
  },
  {
   "cell_type": "code",
   "execution_count": 24,
   "metadata": {
    "collapsed": false
   },
   "outputs": [
    {
     "name": "stdout",
     "output_type": "stream",
     "text": [
      "[[(-2-2j), -2j, (2-2j)], [(-2+0j), 0j, (2+0j)], [(-2+2j), 2j, (2+2j)]]\n"
     ]
    }
   ],
   "source": [
    "lcp.zoom(-2,2,3,-2,2,3)\n",
    "print(lcp.plane)"
   ]
  }
 ],
 "metadata": {
  "kernelspec": {
   "display_name": "Python 3 (Ubuntu Linux)",
   "language": "python",
   "name": "python3"
  },
  "language_info": {
   "codemirror_mode": {
    "name": "ipython",
    "version": 3
   },
   "file_extension": ".py",
   "mimetype": "text/x-python",
   "name": "python",
   "nbconvert_exporter": "python",
   "pygments_lexer": "ipython3",
   "version": "3.5.2"
  }
 },
 "nbformat": 4,
 "nbformat_minor": 0
}